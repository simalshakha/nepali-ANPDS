{
 "cells": [
  {
   "cell_type": "code",
   "execution_count": null,
   "id": "6f2f4cf6",
   "metadata": {},
   "outputs": [],
   "source": [
    "# resume\n",
    "# Import necessary libraries\n",
    "\n",
    "\n",
    "# Set environment variable to reduce fragmentation\n",
    "os.environ['PYTORCH_CUDA_ALLOC_CONF'] = 'expandable_segments:True'  # Reduce fragmentation\n",
    "\n",
    "# Define the path to the last checkpoint\n",
    "last = os.path.abspath('training_results/traific_pd_v1/weights/last.pt')  # Path to the last checkpoint\n",
    "\n",
    "# Step 2: Update the YAML file with the new paths\n",
    "yaml_file_path = os.path.abspath('number_plate_resume_train.yaml')  # Dynamic path resolution\n",
    "\n",
    "# Ensure directory exists\n",
    "os.makedirs(os.path.dirname(yaml_file_path), exist_ok=True)\n",
    "data_path = os.path.abspath('./data')\n",
    "# Create/update YAML content with proper structure\n",
    "data = {\n",
    "    'train': os.path.join(data_path, 'train2', 'images'),\n",
    "    'val': os.path.join(data_path, 'val', 'images'),\n",
    "    'nc': 1,  \n",
    "    'names': ['number_plate']\n",
    "}\n",
    "\n",
    "# Write the updated YAML file\n",
    "with open(yaml_file_path, 'w') as f:\n",
    "    yaml.safe_dump(data, f, default_flow_style=None)\n",
    "\n",
    "print(f\"YAML file updated: {yaml_file_path}\")\n",
    "print(\"YAML content:\")\n",
    "print(yaml.dump(data, default_flow_style=None))\n",
    "\n",
    " \n",
    "# Load the last checkpoint\n",
    "model = YOLO(last)\n",
    "\n",
    "# Resume training for interrupted\n",
    "# results = model.train(\n",
    "#     data=yaml_file_path,\n",
    "#     imgsz=640,\n",
    "#     epochs=30,  # Total number of epochs you want to train\n",
    "#     device='0',  # Use GPU if available\n",
    "#     batch=4,\n",
    "#     project=os.path.abspath('training_results'),\n",
    "#     name='traific_pd_v1',  # Use same name to save in the same folder\n",
    "#     resume=True  # Important: this tells YOLO to resume from checkpoint\n",
    "# )"
   ]
  }
 ],
 "metadata": {
  "kernelspec": {
   "display_name": "UV Project Python (traific)",
   "language": "python",
   "name": "traific"
  },
  "language_info": {
   "codemirror_mode": {
    "name": "ipython",
    "version": 3
   },
   "file_extension": ".py",
   "mimetype": "text/x-python",
   "name": "python",
   "nbconvert_exporter": "python",
   "pygments_lexer": "ipython3",
   "version": "3.10.17"
  }
 },
 "nbformat": 4,
 "nbformat_minor": 5
}
